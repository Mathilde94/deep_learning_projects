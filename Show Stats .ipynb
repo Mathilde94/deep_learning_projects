{
 "cells": [
  {
   "cell_type": "code",
   "execution_count": 1,
   "metadata": {
    "collapsed": false,
    "deletable": true,
    "editable": true
   },
   "outputs": [],
   "source": [
    "import os\n",
    "import matplotlib.mlab as mlab\n",
    "import matplotlib.pyplot as plt\n",
    "from classifier.helpers import show_stats_from_file\n",
    "\n",
    "from models.models import ConvolutionNeuralNetwork\n",
    "from classifier.models import Classifier\n",
    "from data.load import (get_testing_set, get_training_set, get_validation_set,\n",
    "                       load_from_file, load_sets_from_file, reformat, reformat_3d)\n",
    "\n",
    "from model_trainer.models import ModelTrainer\n",
    "\n",
    "from data.constants import saved_sessions_root\n",
    "\n",
    "from models.models import ConvolutionNeuralNetwork, LogisticRegression, NeuralNetwork\n",
    "from classifier.models import Classifier\n",
    "\n",
    "% matplotlib inline\n",
    "\n",
    "datasets = load_sets_from_file()\n",
    "\n",
    "train_data, train_labels = get_training_set(datasets, size=15000)\n",
    "valid_data, valid_labels = get_validation_set(datasets, size=3000)\n",
    "test_data, test_labels = get_testing_set(datasets, size=3000)\n",
    "del datasets\n"
   ]
  },
  {
   "cell_type": "code",
   "execution_count": null,
   "metadata": {
    "collapsed": false,
    "deletable": true,
    "editable": true
   },
   "outputs": [],
   "source": [
    "# This is for the convolutional network configurations:\n",
    "\n",
    "train_dataset, train_labels = reformat_3d(train_data, train_labels)\n",
    "valid_dataset, valid_labels = reformat_3d(valid_data, valid_labels)\n",
    "test_dataset, test_labels = reformat_3d(test_data, test_labels)\n",
    "\n",
    "print('Training set', train_dataset.shape, train_labels.shape)\n",
    "print('Validation set', valid_dataset.shape, valid_labels.shape)\n",
    "print('Test set', test_dataset.shape, test_labels.shape)"
   ]
  },
  {
   "cell_type": "code",
   "execution_count": null,
   "metadata": {
    "collapsed": false,
    "deletable": true,
    "editable": true
   },
   "outputs": [],
   "source": [
    "model = ConvolutionNeuralNetwork()\n",
    "classifier = Classifier(model)\n",
    "classifier.train(train_dataset, train_labels, valid_dataset, valid_labels, test_dataset,\n",
    "                 test_labels, save=False, from_disk=False)"
   ]
  },
  {
   "cell_type": "code",
   "execution_count": null,
   "metadata": {
    "collapsed": false
   },
   "outputs": [],
   "source": [
    "# This is for the Logistic Regression and Neural Network configurations:\n",
    "train_dataset, train_labels = reformat(train_data, train_labels)\n",
    "valid_dataset, valid_labels = reformat(valid_data, valid_labels)\n",
    "test_dataset, test_labels = reformat(test_data, test_labels)\n",
    "\n",
    "print('Training set', train_dataset.shape, train_labels.shape)\n",
    "print('Validation set', valid_dataset.shape, valid_labels.shape)\n",
    "print('Test set', test_dataset.shape, test_labels.shape)"
   ]
  },
  {
   "cell_type": "code",
   "execution_count": null,
   "metadata": {
    "collapsed": false
   },
   "outputs": [],
   "source": [
    "model = LogisticRegression()\n",
    "classifier = Classifier(model)\n",
    "classifier.train(train_dataset, train_labels, valid_dataset, valid_labels, test_dataset,\n",
    "                 test_labels, save=False, from_disk=False)"
   ]
  },
  {
   "cell_type": "code",
   "execution_count": null,
   "metadata": {
    "collapsed": false,
    "deletable": true,
    "editable": true
   },
   "outputs": [],
   "source": [
    "classifier.stats()"
   ]
  },
  {
   "cell_type": "code",
   "execution_count": null,
   "metadata": {
    "collapsed": false,
    "deletable": true,
    "editable": true
   },
   "outputs": [],
   "source": [
    "show_stats_from_file('convolution_3_layer.session-stats.pickle')"
   ]
  },
  {
   "cell_type": "code",
   "execution_count": null,
   "metadata": {
    "collapsed": false,
    "deletable": true,
    "editable": true
   },
   "outputs": [],
   "source": [
    "def show_stats(steps, losses, accuracies):\n",
    "    # % matplotlib inline\n",
    "    fig = plt.figure()\n",
    "\n",
    "    fig.add_subplot(4, 2, 1)\n",
    "    plt.plot(steps, losses['minibatch_train'], 'r--', linewidth=1)\n",
    "\n",
    "    fig.add_subplot(4, 2, 2)\n",
    "    plt.plot(steps, losses['minibatch_train'], 'r--',\n",
    "             losses['validation'], 'b--',\n",
    "             losses['test'], 'g--',\n",
    "             linewidth=1)\n",
    "    \n",
    "    fig.add_subplot(4, 1, 2)\n",
    "    plt.plot(steps, accuracies['minibatch_train'], 'b--', linewidth=1)\n",
    "\n",
    "    fig.add_subplot(4, 1, 3)\n",
    "    plt.plot(steps, accuracies['validation'], 'y--', linewidth=1)\n",
    "\n",
    "    fig.add_subplot(4, 1, 4)\n",
    "    plt.plot(steps, accuracies['test'], 'g--', linewidth=1)"
   ]
  },
  {
   "cell_type": "code",
   "execution_count": null,
   "metadata": {
    "collapsed": false,
    "deletable": true,
    "editable": true
   },
   "outputs": [],
   "source": [
    "print(classifier.trainer.losses['validation'])\n",
    "show_stats(classifier.trainer.steps, classifier.trainer.losses, classifier.trainer.accuracies)"
   ]
  },
  {
   "cell_type": "code",
   "execution_count": null,
   "metadata": {
    "collapsed": true,
    "deletable": true,
    "editable": true
   },
   "outputs": [],
   "source": []
  },
  {
   "cell_type": "code",
   "execution_count": null,
   "metadata": {
    "collapsed": true,
    "deletable": true,
    "editable": true
   },
   "outputs": [],
   "source": []
  },
  {
   "cell_type": "code",
   "execution_count": null,
   "metadata": {
    "collapsed": true,
    "deletable": true,
    "editable": true
   },
   "outputs": [],
   "source": []
  },
  {
   "cell_type": "code",
   "execution_count": null,
   "metadata": {
    "collapsed": true,
    "deletable": true,
    "editable": true
   },
   "outputs": [],
   "source": []
  },
  {
   "cell_type": "code",
   "execution_count": null,
   "metadata": {
    "collapsed": true,
    "deletable": true,
    "editable": true
   },
   "outputs": [],
   "source": []
  },
  {
   "cell_type": "code",
   "execution_count": null,
   "metadata": {
    "collapsed": true,
    "deletable": true,
    "editable": true
   },
   "outputs": [],
   "source": []
  },
  {
   "cell_type": "code",
   "execution_count": null,
   "metadata": {
    "collapsed": true,
    "deletable": true,
    "editable": true
   },
   "outputs": [],
   "source": []
  },
  {
   "cell_type": "code",
   "execution_count": null,
   "metadata": {
    "collapsed": true,
    "deletable": true,
    "editable": true
   },
   "outputs": [],
   "source": []
  },
  {
   "cell_type": "code",
   "execution_count": null,
   "metadata": {
    "collapsed": true,
    "deletable": true,
    "editable": true
   },
   "outputs": [],
   "source": []
  }
 ],
 "metadata": {
  "kernelspec": {
   "display_name": "Python 2",
   "language": "python",
   "name": "python2"
  },
  "language_info": {
   "codemirror_mode": {
    "name": "ipython",
    "version": 2
   },
   "file_extension": ".py",
   "mimetype": "text/x-python",
   "name": "python",
   "nbconvert_exporter": "python",
   "pygments_lexer": "ipython2",
   "version": "2.7.11"
  }
 },
 "nbformat": 4,
 "nbformat_minor": 2
}
